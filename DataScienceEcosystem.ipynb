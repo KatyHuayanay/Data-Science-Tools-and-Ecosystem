{
  "metadata": {
    "kernelspec": {
      "name": "python",
      "display_name": "Python (Pyodide)",
      "language": "python"
    },
    "language_info": {
      "codemirror_mode": {
        "name": "python",
        "version": 3
      },
      "file_extension": ".py",
      "mimetype": "text/x-python",
      "name": "python",
      "nbconvert_exporter": "python",
      "pygments_lexer": "ipython3",
      "version": "3.8"
    }
  },
  "nbformat_minor": 4,
  "nbformat": 4,
  "cells": [
    {
      "cell_type": "markdown",
      "source": "<h1> Data Science Tools and Ecosystem </h1>",
      "metadata": {
        "scrolled": true
      }
    },
    {
      "cell_type": "markdown",
      "source": "\nIn this notebook, Data Science Tools and Ecosystem are summarized.\n",
      "metadata": {}
    },
    {
      "cell_type": "markdown",
      "source": "<strong> Objectives:</strong>\n* 1. List \n* 2. Create tables in Markdown.\n* 3. Rename your notebook.\n* 4. Write comments in python ",
      "metadata": {}
    },
    {
      "cell_type": "markdown",
      "source": "Some of the popular languages that Data Scientists use are: \n* 1. Python\n* 2. Java\n* 3. C++\n* 4. C   \n* 5. SQL\n",
      "metadata": {}
    },
    {
      "cell_type": "markdown",
      "source": "Some of the commonly used libraries used by Data Scientists include:\n* 1. NumPy\n* 2. Pandas\n* 3. SciPy\n",
      "metadata": {}
    },
    {
      "cell_type": "markdown",
      "source": "|Data Science Tools|\n| ------ | \n|Python  | \n|R| \n|MySQL  | \n",
      "metadata": {}
    },
    {
      "cell_type": "markdown",
      "source": "<h3> Data Science Tools and Ecosystem </h3>",
      "metadata": {}
    },
    {
      "cell_type": "code",
      "source": "#The first thing this operation does is multiply 3 by 4, which results in 12, then add 5 and the total would be 17.\n(3*4)+5",
      "metadata": {
        "trusted": true
      },
      "outputs": [
        {
          "execution_count": 19,
          "output_type": "execute_result",
          "data": {
            "text/plain": "17"
          },
          "metadata": {}
        }
      ],
      "execution_count": 19
    },
    {
      "cell_type": "code",
      "source": "#Here 200 minutes will be converted to hours, therefore, for this we will use the conversion, that is, \n#200 will be divided by 60, since there are that many minutes in an hour.\n\n200/60",
      "metadata": {
        "trusted": true
      },
      "outputs": [],
      "execution_count": null
    },
    {
      "cell_type": "markdown",
      "source": "<h2>Author</h2>\nKaty Huayanay Calderon ",
      "metadata": {}
    },
    {
      "cell_type": "code",
      "source": "",
      "metadata": {
        "trusted": true
      },
      "outputs": [],
      "execution_count": null
    }
  ]
}